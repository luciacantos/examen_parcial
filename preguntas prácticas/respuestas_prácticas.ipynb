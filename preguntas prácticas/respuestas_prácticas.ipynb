{
  "cells": [
    {
      "cell_type": "markdown",
      "metadata": {
        "id": "CfdJiId9M_Lw"
      },
      "source": [
        "# Respuestas prácticas"
      ]
    },
    {
      "cell_type": "markdown",
      "metadata": {
        "id": "W3uxoJx2NHqc"
      },
      "source": [
        "## Pregunta 1: Refactorización de código con Principios SOLID\n",
        "\n",
        "**Se le proporciona un fragmento de código Python que maneja diferentes tipos de formas geométricas. Actualmente, el código viola el Principio de Responsabilidad Única (SRP) y el Principio Abierto/Cerrado (OCP) de SOLID. Su tarea es refactorizar este código para que se adhiera a estos principios.**\n",
        "---\n",
        "\n",
        "\n",
        "class Shape:\n",
        "    def __init__(self, type):\n",
        "        self.type = type\n",
        "\n",
        "class AreaCalculator:\n",
        "    def __init__(self, shapes):\n",
        "        self.shapes = shapes\n",
        "\n",
        "    def total_area(self):\n",
        "        total = 0\n",
        "        for shape in self.shapes:\n",
        "            if shape.type == \"circle\":\n",
        "                radius = 1.0  # Supongamos que el radio es siempre 1 para este ejemplo\n",
        "                total += 3.14159 * radius * radius\n",
        "            elif shape.type == \"square\":\n",
        "                side = 1.0  # Supongamos que el lado es siempre 1 para este ejemplo\n",
        "                total += side * side\n",
        "        return total\n",
        "\n",
        "shapes = [Shape(\"circle\"), Shape(\"square\")]\n",
        "calculator = AreaCalculator(shapes)\n",
        "print(calculator.total_area())\n",
        "\n",
        "---"
      ]
    },
    {
      "cell_type": "markdown",
      "metadata": {
        "id": "Z1cr8_1AOYvM"
      },
      "source": [
        "Para cumplir con los principios **SRP** y **OCP** de SOLID, podemos refactorizar el código delegando la responsabilidad del cálculo de área a cada clase específica de forma (como `Circle` y `Square`), lo que asegura que cada una maneje su propia lógica, respetando el principio de responsabilidad única (SRP). Además, aplicando el principio de abierto/cerrado (OCP), el código permite añadir nuevas formas sin modificar las clases existentes, sino solo extendiéndolo con nuevas implementaciones."
      ]
    },
    {
      "cell_type": "code",
      "execution_count": null,
      "metadata": {
        "id": "Wt4vZQZkNlFo"
      },
      "outputs": [],
      "source": [
        "from abc import ABC, abstractmethod\n",
        "\n",
        "class Shape(ABC):\n",
        "    @abstractmethod\n",
        "    def area(self):\n",
        "        pass\n",
        "\n",
        "class Circle(Shape):\n",
        "    def __init__(self, radius):\n",
        "        self.radius = radius\n",
        "\n",
        "    def area(self):\n",
        "        return 3.14159 * self.radius * self.radius\n",
        "\n",
        "class Square(Shape):\n",
        "    def __init__(self, side):\n",
        "        self.side = side\n",
        "\n",
        "    def area(self):\n",
        "        return self.side * self.side\n",
        "\n",
        "class AreaCalculator:\n",
        "    def __init__(self, shapes):\n",
        "        self.shapes = shapes\n",
        "\n",
        "    def total_area(self):\n",
        "        return sum(shape.area() for shape in self.shapes)\n",
        "\n",
        "\n",
        "shapes = [Circle(1.0), Square(1.0)]\n",
        "calculator = AreaCalculator(shapes)\n",
        "print(calculator.total_area())\n"
      ]
    },
    {
      "cell_type": "markdown",
      "metadata": {
        "id": "PAPhR1s6h5E0"
      },
      "source": [
        "Se define una clase abstracta Shape que obliga a cada tipo de forma a usar su propio cálculo de área a través del método area().\n",
        "\n",
        "Luego, Circle y Square usan sus propios métodos de cálculo de área, cumpliendo así con el principio SRP.\n",
        "\n",
        "Por últimola  clase AreaCalculator ya no necesita preocuparse por los detalles de cálculo para cada tipo de forma, simplemente llama al método area() de cada objeto, lo cual respeta el principio OCP."
      ]
    },
    {
      "cell_type": "markdown",
      "metadata": {
        "id": "dtdht1QPiMc9"
      },
      "source": [
        "## Pregunta 2:  Implementación de Patrón de Diseño Estrategia\n",
        "\n",
        "**En ingeniería matemática, es común que necesitemos intercambiar diferentes algoritmos dependiendo de la situación. Considere una aplicación que debe realizar la integración numérica de una función. Hay diferentes métodos para realizar esta integración, como el método del trapecio, el método de Simpson, la cuadratura gaussiana, entre otros.**\n",
        "---\n",
        "**Se le pide que implemente este escenario utilizando el patrón de diseño estrategia. Debe proporcionar una estructura que permita cambiar fácilmente el método de integración. Incluya al menos dos métodos específicos (por ejemplo, Trapecio y Simpson) y demuestre cómo se podrían cambiar estos métodos en tiempo de ejecución.**\n",
        "---\n",
        "\n",
        "\n",
        "---"
      ]
    },
    {
      "cell_type": "markdown",
      "metadata": {
        "id": "Dd5SvqLCi25f"
      },
      "source": [
        "\n",
        "Pasa usar el patrókn de diseño de estrategia en un ejemplo de integración numérica, creamos una estructura que te deje elegir entre diferentes algoritmos de integración. Usaremos dos métodos: del trapecio y de Simpson."
      ]
    },
    {
      "cell_type": "code",
      "execution_count": null,
      "metadata": {
        "id": "39OS-xFlj-if"
      },
      "outputs": [],
      "source": [
        "'''\n",
        "Primero, definimos una interfaz que los métodos de integración deben seguir. Esta interfaz contendrá un método para realizar la integración.\n",
        "'''\n",
        "\n",
        "from abc import ABC, abstractmethod\n",
        "\n",
        "class IntegracionEstrategia(ABC):\n",
        "    @abstractmethod\n",
        "    def integrar(self, f, a, b, n):\n",
        "        pass\n"
      ]
    },
    {
      "cell_type": "code",
      "execution_count": null,
      "metadata": {
        "id": "0rszEGG9kRPu"
      },
      "outputs": [],
      "source": [
        "'''\n",
        "Ahora, implementamos las clases concretas para el método del trapecio y el método de Simpson.\n",
        "'''\n",
        "\n",
        "class MetodoTrapecio(IntegracionEstrategia):\n",
        "    def integrar(self, f, a, b, n):\n",
        "        h = (b - a) / n\n",
        "        suma = 0.5 * (f(a) + f(b))\n",
        "        for i in range(1, n):\n",
        "            suma += f(a + i * h)\n",
        "        return suma * h\n",
        "\n",
        "\n",
        "class MetodoSimpson(IntegracionEstrategia):\n",
        "    def integrar(self, f, a, b, n):\n",
        "        if n % 2 == 1:\n",
        "            n += 1\n",
        "        h = (b - a) / n\n",
        "        suma = f(a) + f(b)\n",
        "        for i in range(1, n, 2):\n",
        "            suma += 4 * f(a + i * h)\n",
        "        for i in range(2, n-1, 2):\n",
        "            suma += 2 * f(a + i * h)\n",
        "        return suma * h / 3\n"
      ]
    },
    {
      "cell_type": "code",
      "execution_count": null,
      "metadata": {
        "id": "byy9npJgkZnN"
      },
      "outputs": [],
      "source": [
        "'''\n",
        "El contexto utilizará la estrategia seleccionada para realizar la integración.\n",
        "'''\n",
        "\n",
        "class Integrador:\n",
        "    def __init__(self, estrategia: IntegracionEstrategia):\n",
        "        self.estrategia = estrategia\n",
        "\n",
        "    def establecer_estrategia(self, estrategia: IntegracionEstrategia):\n",
        "        self.estrategia = estrategia\n",
        "\n",
        "    def integrar(self, f, a, b, n):\n",
        "        return self.estrategia.integrar(f, a, b, n)\n"
      ]
    },
    {
      "cell_type": "code",
      "execution_count": null,
      "metadata": {
        "id": "tDt4Ff0-kvr9"
      },
      "outputs": [],
      "source": [
        "'''\n",
        "Ahora podemos demostrar cómo cambiar las estrategias en tiempo de ejecución.\n",
        "'''\n",
        "\n",
        "import math\n",
        "\n",
        "def f(x):\n",
        "    return math.sin(x)\n",
        "\n",
        "integrador = Integrador(MetodoTrapecio())\n",
        "resultado_trapecio = integrador.integrar(f, 0, math.pi, 1000)\n",
        "print(f\"Resultado (Trapecio): {resultado_trapecio}\")\n",
        "\n",
        "\n",
        "integrador.establecer_estrategia(MetodoSimpson())\n",
        "resultado_simpson = integrador.integrar(f, 0, math.pi, 1000)\n",
        "print(f\"Resultado (Simpson): {resultado_simpson}\")\n"
      ]
    },
    {
      "cell_type": "markdown",
      "metadata": {
        "id": "vzxznSG2k33X"
      },
      "source": [
        "En este ejemplo:\n",
        "\n",
        "- Hay una interfaz IntegracionEstrategia que representa el método de integración.\n",
        "\n",
        "- Se implementaron dos métodos específicos: Metodo Trapecio y Metodo Simpson.\n",
        "\n",
        "- Hay un Integrador que permite establecer y cambiar la estrategia de integración en tiempo de ejecución.\n",
        "\n",
        "- Finalmente, se demostró cómo utilizar estas clases para realizar integraciones numéricas cambiando el método de integración según sea necesario.\n",
        "\n",
        "De esta manera se pueden agregar más métodos de integración en el futuro sin modificar el código existente, manteniendo así una buena organización y separación de responsabilidades."
      ]
    }
  ],
  "metadata": {
    "colab": {
      "provenance": []
    },
    "kernelspec": {
      "display_name": "Python 3",
      "name": "python3"
    },
    "language_info": {
      "name": "python"
    }
  },
  "nbformat": 4,
  "nbformat_minor": 0
}
