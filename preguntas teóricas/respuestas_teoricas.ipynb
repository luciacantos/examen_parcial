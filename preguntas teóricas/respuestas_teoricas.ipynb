{
  "cells": [
    {
      "cell_type": "markdown",
      "metadata": {
        "id": "SNvGOiJKDSSH"
      },
      "source": [
        "# RESPUESTAS PREGUNTAS TEÓRICAS"
      ]
    },
    {
      "cell_type": "markdown",
      "metadata": {
        "id": "7y4opr8uDT2s"
      },
      "source": [
        "## Pregunta 1"
      ]
    },
    {
      "cell_type": "markdown",
      "metadata": {
        "id": "Bna0UTEgDYO3"
      },
      "source": [
        "**Exxplique en detalle el principio SOLID \"Open/Closed\" y proporcione un ejemplo de código en Python donde este principio se ha violado y cómo puede corregirlo**\n",
        "---\n",
        "\n",
        "---"
      ]
    },
    {
      "cell_type": "markdown",
      "metadata": {
        "id": "iZ--8h3iDbTP"
      },
      "source": [
        "\n",
        "S.O.L.I.D. es un conjunto de cinco principios de diseño que buscan hacer el software más comprensible, flexible y mantenible. Aunque están orientados al diseño orientado a objetos, también pueden aplicarse en metodologías ágiles y adaptativas.\n",
        "\n",
        "El principio \"Open/CLosed\", establece que las entidades software (clases, módulos y funciones) deberían estar abiertos para su extensión, pero cerrados para su modificación.\n",
        "\n",
        "\n",
        "- Abierto para extensión: el comportamiento del módulo puede ampliarse para satisfacer nuevos requisitos sin afectar su estructura base.\n",
        "\n",
        "- Cerrado para modificación: el módulo debe tener una interfaz estable que permita extender su comportamiento sin alterar el código original.\n",
        "\n",
        "Este principio busca que sea fácil cambiar el commportamiento de un módulo sin modificar su código fuente. La idea es estructurar el código para que, al añadir nuevos comportamientos, solo se necesite agregar código nuevo, sin alterar significativamente el existente. E la práctica, se logra mediante el polimorfismo, usando interfaces o clases abstractas.\n",
        "\n",
        "¿Cómo detectar que estamos violando el principio Open/Closed?\n",
        "Una señal clara de que estamos infringiendo el principio Abierto/Cerrado es si, al agregar nueva funcionalidad, terminamos modificando repetidamente los mismos archivos. Cuando esto sucede, es importante detenerse, analizar la causa y realizar una refactorización para alinear el diseño con el principio.\n",
        "\n",
        "¿Cómo resolver la violación del principio Abierto/Cerrado?  \n",
        "La solución más efectiva es mediante el polimorfismo. En lugar de una única clase que controle toda la lógica, se delega la operación a objetos que manejan la lógica específica. Así, cada objeto implementa su propia manera de resolver la operación, y el sistema llama al objeto adecuado según el tipo de operación requerida.\n",
        "\n",
        "**Ejemplo de violación del principio Abierto/Cerrado y su corrección**\n",
        "\n",
        "Imagina que tienes una clase llamada DiscountCalculator que calcula el precio final de un producto aplicando descuentos según su tipo (por ejemplo, productos normales y productos en promoción). Al principio, funciona bien, pero si luego quieres agregar un nuevo tipo de producto, como uno con descuento especial, tendrás que cambiar el código de la clase, lo cual rompe el principio Abierto/Cerrado: las clases deberían estar abiertas a extender su comportamiento, pero cerradas para que el código existente sea modificado."
      ]
    },
    {
      "cell_type": "code",
      "execution_count": 1,
      "metadata": {
        "id": "OETKthHIDhCn"
      },
      "outputs": [],
      "source": [
        "class Product:\n",
        "    def __init__(self, price, type):\n",
        "        self.price = price\n",
        "        self.type = type\n",
        "\n",
        "class DiscountCalculator:\n",
        "    def calculate(self, product):\n",
        "        if product.type == \"regular\":\n",
        "            return product.price\n",
        "        elif product.type == \"promotional\":\n",
        "            return product.price * 0.9\n",
        "        return product.price\n"
      ]
    },
    {
      "cell_type": "markdown",
      "metadata": {
        "id": "aKQhheOLEKU7"
      },
      "source": [
        "Este código no cumple con el principio Abierto/Cerrado porque al agregar un nuevo tipo de producto, debemos modificar DiscountCalculator para incluir la lógica del nuevo descuento.\n",
        "\n",
        "**Solución correcta aplicando el principio Abierto/Cerrado**\n",
        "Creamos una interfaz en Python usando una clase base, y luego cada tipo de producto implementa su propio método calculate_discount()."
      ]
    },
    {
      "cell_type": "code",
      "execution_count": 2,
      "metadata": {
        "id": "UGAU-xyyENJD"
      },
      "outputs": [],
      "source": [
        "from abc import ABC, abstractmethod\n",
        "\n",
        "class Discountable(ABC):\n",
        "    @abstractmethod\n",
        "    def calculate_discount(self):\n",
        "        pass\n",
        "\n",
        "class RegularProduct(Discountable):\n",
        "    def __init__(self, price):\n",
        "        self.price = price\n",
        "\n",
        "    def calculate_discount(self):\n",
        "        return self.price\n",
        "\n",
        "class PromotionalProduct(Discountable):\n",
        "    def __init__(self, price):\n",
        "        self.price = price\n",
        "\n",
        "    def calculate_discount(self):\n",
        "        return self.price * 0.9\n",
        "\n",
        "class SpecialDiscountProduct(Discountable):\n",
        "    def __init__(self, price):\n",
        "        self.price = price\n",
        "\n",
        "    def calculate_discount(self):\n",
        "        return self.price * 0.8\n",
        "\n",
        "class DiscountCalculator:\n",
        "    def calculate(self, products):\n",
        "        total = 0\n",
        "        for product in products:\n",
        "            total += product.calculate_discount()\n",
        "        return total\n"
      ]
    },
    {
      "cell_type": "markdown",
      "metadata": {
        "id": "mwsUPdA9EVro"
      },
      "source": [
        "Ahora, si agregamos un nuevo tipo de producto, solo tenemos que crear una nueva clase que implemente Discountable y defina su propio calculate_discount(). Esto permite extender el comportamiento de la aplicación sin modificar el código existente en DiscountCalculator, cumpliendo así con el principio Abierto/Cerrado."
      ]
    },
    {
      "cell_type": "markdown",
      "metadata": {
        "id": "BLShlp_CEaRo"
      },
      "source": [
        "## Pregunta 2"
      ]
    },
    {
      "cell_type": "markdown",
      "metadata": {
        "id": "369YyAPSEpN_"
      },
      "source": [
        "**Describa el patrón de diseño \"Factory\". ¿En qué situaciones sería útil este patrón? Proporcione un ejemplo de cómo implementaría este patrón en Python para un problema relacionado con la ingeniería matemática, como la creación de diferentes tipos de funciones matemáticas.**\n",
        "---\n",
        "\n",
        "---"
      ]
    },
    {
      "cell_type": "markdown",
      "metadata": {
        "id": "bhh9P55jE4Ko"
      },
      "source": [
        "El patrón Factory, describe un enfoque de programación que sirve para crear objetos sin tener que especificar su clase exacta. Esto quiere decir que el objeto creado puede intercambiarse con flexibilidad y facilidad.\n",
        "Su uso puede especificarse en una interfaz o implementarse mediante la clase hijo o la clase base y opcionalmente sobrescribirse (mediante clases derivadas). Al hacerlo, el patrón o método toma el lugar del constructor de clase normal para separar la creación de objetos de los propios objetos."
      ]
    },
    {
      "cell_type": "markdown",
      "metadata": {
        "id": "muck3Rp4Gdcb"
      },
      "source": [
        "¿En que situaciones sería útil este patrón?\n",
        "\n",
        "El patrón Factory es útil cuando los tipos de objetos a crear no están definidos de antemano. Es común en marcos de trabajo y bibliotecas para simplificar el desarrollo, y en sistemas de autenticación, donde permite delegar la gestión de autenticación a diferentes clases. También es ideal para software que requiere agregar nuevas clases con regularidad, manteniendo un proceso de creación uniforme."
      ]
    },
    {
      "cell_type": "markdown",
      "metadata": {
        "id": "PFQ0_IwGGojr"
      },
      "source": [
        "**Ejemplo de implementación**\n",
        "\n",
        "Imaginemos que estamos desarrollando un programa para realizar cálculos con diferentes tipos de funciones matemáticas. Creamos una clase Factory que decidirá el tipo de función a instanciar según el nombre o el tipo proporcionado."
      ]
    },
    {
      "cell_type": "code",
      "execution_count": 3,
      "metadata": {
        "id": "BN4ZCz7hMmJy"
      },
      "outputs": [],
      "source": [
        "# Definir una interfaz o clase base para las funciones\n",
        "\n",
        "from abc import ABC, abstractmethod\n",
        "import math\n",
        "\n",
        "class MathFunction(ABC):\n",
        "    @abstractmethod\n",
        "    def evaluate(self, x):\n",
        "        pass\n"
      ]
    },
    {
      "cell_type": "code",
      "execution_count": 4,
      "metadata": {
        "id": "5hnRKAaAPMxq"
      },
      "outputs": [],
      "source": [
        "# Crear clases para cada tipo de función concreta\n",
        "\n",
        "class LinearFunction(MathFunction):\n",
        "    def __init__(self, m, c):\n",
        "        self.m = m\n",
        "        self.c = c\n",
        "\n",
        "    def evaluate(self, x):\n",
        "        return self.m * x + self.c\n",
        "\n",
        "class QuadraticFunction(MathFunction):\n",
        "    def __init__(self, a, b, c):\n",
        "        self.a = a\n",
        "        self.b = b\n",
        "        self.c = c\n",
        "\n",
        "    def evaluate(self, x):\n",
        "        return self.a * x**2 + self.b * x + self.c\n",
        "\n",
        "class SineFunction(MathFunction):\n",
        "    def evaluate(self, x):\n",
        "        return math.sin(x)\n"
      ]
    },
    {
      "cell_type": "code",
      "execution_count": 5,
      "metadata": {
        "id": "ZQLcC7SiPS3Q"
      },
      "outputs": [],
      "source": [
        "# Crear la clase Factory para gestionar la creación de funciones\n",
        "\n",
        "class FunctionFactory:\n",
        "    @staticmethod\n",
        "    def create_function(function_type, *args):\n",
        "        if function_type == \"linear\":\n",
        "            return LinearFunction(*args)\n",
        "        elif function_type == \"quadratic\":\n",
        "            return QuadraticFunction(*args)\n",
        "        elif function_type == \"sine\":\n",
        "            return SineFunction()\n",
        "        else:\n",
        "            raise ValueError(f\"Function type '{function_type}' is not recognized.\")\n"
      ]
    },
    {
      "cell_type": "markdown",
      "metadata": {
        "id": "eSt0JK0FQL3Z"
      },
      "source": [
        "Podemos utilizar la FunctionFactory para crear y evaluar funciones sin necesidad de saber su tipo específico desde el principio."
      ]
    },
    {
      "cell_type": "code",
      "execution_count": 6,
      "metadata": {
        "colab": {
          "base_uri": "https://localhost:8080/"
        },
        "id": "WAseFMNsQMd8",
        "outputId": "3a9a5a8d-497e-477a-fe54-887a783d6f9d"
      },
      "outputs": [
        {
          "name": "stdout",
          "output_type": "stream",
          "text": [
            "Linear Function: 13\n",
            "Quadratic Function: 12\n",
            "Sine Function: 1.0\n"
          ]
        }
      ],
      "source": [
        "# Uso del patrón Factory\n",
        "\n",
        "linear_function = FunctionFactory.create_function(\"linear\", 2, 3)\n",
        "print(\"Linear Function:\", linear_function.evaluate(5))\n",
        "\n",
        "quadratic_function = FunctionFactory.create_function(\"quadratic\", 1, -3, 2)\n",
        "print(\"Quadratic Function:\", quadratic_function.evaluate(5))\n",
        "\n",
        "sine_function = FunctionFactory.create_function(\"sine\")\n",
        "print(\"Sine Function:\", sine_function.evaluate(math.pi / 2))\n"
      ]
    },
    {
      "cell_type": "markdown",
      "metadata": {
        "id": "BZawgp_iQh8b"
      },
      "source": [
        "## Pregunta 3"
      ]
    },
    {
      "cell_type": "markdown",
      "metadata": {
        "id": "b4mkrSC8Qkvr"
      },
      "source": [
        "**Explique el antipatrón \"God Object\". ¿Por qué es perjudicial este antipatrón y qué problemas puede causar en el desarrollo de software? Proporcione un ejemplo de un \"God Object\" en un contexto de ingeniería matemática y explique cómo podría refactorizarlo para evitar este antipatrón.**\n",
        "---\n",
        "\n",
        "---"
      ]
    },
    {
      "cell_type": "markdown",
      "metadata": {
        "id": "M54Xk97vRDU1"
      },
      "source": [
        "El antipatrón \"God Object\" ocurre cuando una clase maneja demasiadas tareas y responsabilidades. Esto hace que el código sea difícil de entender, probar y mantener, ya que agrupa funciones diversas en un solo lugar, aumentando el riesgo de errores y acoplando el sistema.\n",
        "\n",
        "¿Por qué es perjudicial el antipatrón \"God Object\"?\n",
        "- Acoplamiento y baja cohesión: Un \"God Object\" genera dependencias fuertes y múltiples conexiones internas, lo que dificulta el uso del código en otros contextos y su mantenimiento.\n",
        "\n",
        "- Difícil de mantener y probar: Con tantos métodos y variables en una sola clase, el \"God Object\" se vuelve complejo y requiere esfuerzos adicionales para entender su funcionalidad completa, realizar pruebas o solucionar problemas.\n",
        "\n",
        "- Riesgo de errores y alta vulnerabilidad: Como maneja múltiples responsabilidades, los errores en una parte del \"God Object\" pueden impactar otros módulos del sistema, generando problemas en cascada.\n",
        "\n",
        "- Escalabilidad limitada: La clase se convierte en un cuello de botella, y agregar nuevas funcionalidades implica modificar el \"God Object\", aumentando el riesgo de errores y dificultando el crecimiento del sistema."
      ]
    },
    {
      "cell_type": "markdown",
      "metadata": {
        "id": "oHaDGJF2Tjrm"
      },
      "source": [
        "**Ejemplo de \"God Object\" en Ingeniería Matemática**\n",
        "\n",
        "Creamos una clase llamada MathEngine, diseñada inicialmente para realizar cálculos básicos, pero que con el tiempo ha crecido para incluir todo tipo de funcionalidades matemáticas como operaciones algebraicas, cálculo de integrales, resolución de ecuaciones y graficación. Su estructura podría ser la siguiente:"
      ]
    },
    {
      "cell_type": "code",
      "execution_count": 7,
      "metadata": {
        "id": "GUAIsMpHTjMp"
      },
      "outputs": [],
      "source": [
        "class MathEngine:\n",
        "    def __init__(self):\n",
        "        self.data = []\n",
        "\n",
        "    def add_data(self, value):\n",
        "        self.data.append(value)\n",
        "\n",
        "    def add(self, a, b):\n",
        "        return a + b\n",
        "\n",
        "    def subtract(self, a, b):\n",
        "        return a - b\n",
        "\n",
        "    def integrate(self, func, a, b):\n",
        "        pass\n",
        "\n",
        "    def solve_equation(self, equation):\n",
        "        pass\n",
        "\n",
        "    def plot_graph(self, func, x_range):\n",
        "        pass\n",
        "\n",
        "    def mean(self, data):\n",
        "        return sum(data) / len(data)\n",
        "\n",
        "    def standard_deviation(self, data):\n",
        "        pass\n"
      ]
    },
    {
      "cell_type": "markdown",
      "metadata": {
        "id": "s9l-43j5YxYK"
      },
      "source": [
        "Esta clase MathEngine concentra demasiadas responsabilidades y, a medida que se agregan nuevas funcionalidades, se hace difícil de mantener y entender.\n",
        "\n",
        "\n",
        "Para mejorar el diseño, podemos dividir MathEngine en varias clases con una única responsabilidad:\n",
        "\n",
        "- Clase Algebra para operaciones algebraicas.\n",
        "- Clase Calculus para cálculo avanzado.\n",
        "- Clase Statistics para funciones estadísticas.\n",
        "- Clase Graphing para funciones de graficación."
      ]
    },
    {
      "cell_type": "code",
      "execution_count": 8,
      "metadata": {
        "id": "d8S00UVOY2r_"
      },
      "outputs": [],
      "source": [
        "class Algebra:\n",
        "    def add(self, a, b):\n",
        "        return a + b\n",
        "\n",
        "    def subtract(self, a, b):\n",
        "        return a - b\n",
        "\n",
        "class Calculus:\n",
        "    def integrate(self, func, a, b):\n",
        "        pass\n",
        "\n",
        "    def solve_equation(self, equation):\n",
        "        pass\n",
        "\n",
        "class Statistics:\n",
        "    def mean(self, data):\n",
        "        return sum(data) / len(data)\n",
        "\n",
        "    def standard_deviation(self, data):\n",
        "        pass\n",
        "\n",
        "class Graphing:\n",
        "    def plot_graph(self, func, x_range):\n",
        "        pass\n"
      ]
    },
    {
      "cell_type": "markdown",
      "metadata": {
        "id": "8ie_URzVenkG"
      },
      "source": [
        "Ahora, cuando se necesite una operación específica, las clases correspondientes pueden usarse de manera independiente sin necesidad de depender de un solo \"God Object\". Esto hace que el sistema sea más modular, fácil de mantener y de escalar, ya que cada clase se encarga de una responsabilidad específica."
      ]
    },
    {
      "cell_type": "markdown",
      "metadata": {
        "id": "mnVLdqAveopK"
      },
      "source": [
        "## Pregunta 4"
      ]
    },
    {
      "cell_type": "markdown",
      "metadata": {
        "id": "daEq6Tu_esCS"
      },
      "source": [
        "**Los principios DRY (Don't Repeat Yourself) y KISS (Keep It Simple, Stupid) son fundamentales para escribir código de alta calidad. Proporcione un ejemplo de un fragmento de código Python que viole estos principios. Describa cómo lo refactorizaría para adherirse a los principios DRY y KISS.**\n",
        "---\n",
        "\n",
        "---"
      ]
    },
    {
      "cell_type": "markdown",
      "metadata": {
        "id": "ni9OKopoe5kn"
      },
      "source": [
        "\n",
        "- **Principio KISS:** \"Mantenlo simple.\"Este principio sugiere que el diseño y desarrollo de software deben mantenerse lo más simples posible, evitando complejidad innecesaria. La simplicidad facilita la comprensión, el mantenimiento y la detección de errores, mejorando además la eficiencia y la colaboración entre desarrolladores.\n",
        "\n",
        "- **Principio DRY:** \"No te repitas.\" Este principio sugiere evitar la duplicación de código o datos, asegurando que cada pieza de lógica o información tenga una única representación en el sistema. Esto simplifica el mantenimiento y reduce errores al eliminar inconsistencias."
      ]
    },
    {
      "cell_type": "markdown",
      "metadata": {
        "id": "e4gY3mxbhWbh"
      },
      "source": [
        "Como ejemplo, un código que calcula el área de varias figuras geométricas (cuadrado, rectángulo y círculo), pero lo hace con violaciones de los principios DRY y KISS."
      ]
    },
    {
      "cell_type": "code",
      "execution_count": 9,
      "metadata": {
        "id": "OCPUZcaUh5vn"
      },
      "outputs": [],
      "source": [
        "import math\n",
        "\n",
        "def calculate_square_area(side):\n",
        "    square_area = side * side\n",
        "    print(f\"El área del cuadrado es {square_area}\")\n",
        "    return square_area\n",
        "\n",
        "def calculate_rectangle_area(width, height):\n",
        "    rectangle_area = width * height\n",
        "    print(f\"El área del rectángulo es {rectangle_area}\")\n",
        "    return rectangle_area\n",
        "\n",
        "def calculate_circle_area(radius):\n",
        "    circle_area = math.pi * radius * radius\n",
        "    print(f\"El área del círculo es {circle_area}\")\n",
        "    return circle_area\n",
        "\n",
        "def main():\n",
        "    square_area = calculate_square_area(5)\n",
        "    rectangle_area = calculate_rectangle_area(4, 6)\n",
        "    circle_area = calculate_circle_area(3)\n",
        "    total_area = square_area + rectangle_area + circle_area\n",
        "    print(f\"El área total es {total_area}\")\n"
      ]
    },
    {
      "cell_type": "markdown",
      "metadata": {
        "id": "L7sfApBPiKgz"
      },
      "source": [
        "El código viola DRY al repetir el cálculo de área para cada forma, duplicando lógica y código innecesariamente, y viola KISS al incluir impresiones de resultados en cada función, lo cual hace el código más confuso y difícil de modificar."
      ]
    },
    {
      "cell_type": "markdown",
      "metadata": {
        "id": "UG-Te343ilTp"
      },
      "source": [
        "**Refactorización siguiendo DRY y KISS**\n",
        "\n",
        "Podemos simplificar este código utilizando una clase para representar figuras y un método de cálculo de área que sea específico de cada figura, pero sin duplicar nada."
      ]
    },
    {
      "cell_type": "code",
      "execution_count": 10,
      "metadata": {
        "id": "1kH9TrXTi2xV"
      },
      "outputs": [],
      "source": [
        "import math\n",
        "\n",
        "class Shape:\n",
        "    def area(self):\n",
        "        pass\n",
        "\n",
        "class Square(Shape):\n",
        "    def __init__(self, side):\n",
        "        self.side = side\n",
        "\n",
        "    def area(self):\n",
        "        return self.side ** 2\n",
        "\n",
        "class Rectangle(Shape):\n",
        "    def __init__(self, width, height):\n",
        "        self.width = width\n",
        "        self.height = height\n",
        "\n",
        "    def area(self):\n",
        "        return self.width * self.height\n",
        "\n",
        "class Circle(Shape):\n",
        "    def __init__(self, radius):\n",
        "        self.radius = radius\n",
        "\n",
        "    def area(self):\n",
        "        return math.pi * (self.radius ** 2)\n",
        "\n",
        "def main():\n",
        "    shapes = [Square(5), Rectangle(4, 6), Circle(3)]\n",
        "    total_area = sum(shape.area() for shape in shapes)\n",
        "    print(f\"El área total es {total_area}\")\n"
      ]
    },
    {
      "cell_type": "markdown",
      "metadata": {
        "id": "ISW3e2-sjRDG"
      },
      "source": [
        "La clase base Shape y sus subclases encapsulan la lógica de área para cada figura, eliminando duplicación y garantizando que solo haya un método de cálculo de área en cada clase. El código es más claro y directo, sin impresiones innecesarias en los métodos, y el cálculo de áreas está encapsulado en cada figura, simplificando el proceso de sumar áreas.\n",
        "\n",
        "Esta estructura modular permite agregar nuevas figuras fácilmente y mejora la legibilidad y mantenimiento del código."
      ]
    },
    {
      "cell_type": "markdown",
      "metadata": {
        "id": "m4DLJ949jXKz"
      },
      "source": [
        "## Pregunta 5"
      ]
    },
    {
      "cell_type": "markdown",
      "metadata": {
        "id": "ZjQHqHetjaZk"
      },
      "source": [
        "**El patrón de diseño \"Observer\" permite que un objeto notifique a otros objetos sobre los cambios en su estado. Describa una situación en el contexto de la ingeniería matemática donde este patrón sería útil. Implemente un ejemplo simple de este patrón en Python para ilustrar su respuesta.**\n",
        "---\n",
        "\n",
        "---"
      ]
    },
    {
      "cell_type": "markdown",
      "metadata": {
        "id": "UuX-rAtUjfqc"
      },
      "source": [
        "Observer es un patrón de diseño de comportamiento que permite establecer un mecanismo de suscripción para notificar a múltiples objetos sobre eventos que ocurren en el objeto que están observando.\n",
        "\n",
        "El patrón de diseño Observer es útil en situaciones donde un objeto necesita notificar a otros sobre cambios en su estado."
      ]
    },
    {
      "cell_type": "markdown",
      "metadata": {
        "id": "fpU4yYaYq77a"
      },
      "source": [
        "**Ejemplo de Patrón Observer**\n",
        "\n",
        "Implementación simple del patrón Observer, donde un objeto Model notifica a sus observadores cada vez que cambia su valor."
      ]
    },
    {
      "cell_type": "code",
      "execution_count": 11,
      "metadata": {
        "colab": {
          "base_uri": "https://localhost:8080/"
        },
        "id": "sZb6DlYJlM1e",
        "outputId": "fa4ebf26-4c46-4c00-d803-f2f25d10f691"
      },
      "outputs": [
        {
          "name": "stdout",
          "output_type": "stream",
          "text": [
            "Contador actualizado: 1\n",
            "Contador actualizado: 2\n",
            "Contador actualizado: 3\n"
          ]
        }
      ],
      "source": [
        "class Observer:\n",
        "    def update(self, count):\n",
        "        print(f\"Contador actualizado: {count}\")\n",
        "\n",
        "class Counter:\n",
        "    def __init__(self):\n",
        "        self._count = 0\n",
        "        self._observer = None\n",
        "\n",
        "    def attach(self, observer):\n",
        "        self._observer = observer\n",
        "\n",
        "    def increment(self):\n",
        "        self._count += 1\n",
        "        self.notify_observer()\n",
        "\n",
        "    def notify_observer(self):\n",
        "        if self._observer:\n",
        "            self._observer.update(self._count)\n",
        "\n",
        "# Ejemplo de uso\n",
        "if __name__ == \"__main__\":\n",
        "    counter = Counter()\n",
        "    observer = Observer()\n",
        "\n",
        "    counter.attach(observer)\n",
        "\n",
        "    counter.increment()\n",
        "    counter.increment()\n",
        "    counter.increment()\n"
      ]
    },
    {
      "cell_type": "markdown",
      "metadata": {
        "id": "15TFpDoCv-Yu"
      },
      "source": [
        "- Observer: Esta clase tiene un método update() que imprime el valor actual del contador.\n",
        "- Counter: Mantiene un contador interno y un observador. Tiene un método attach() para añadir un observador, increment() para aumentar el contador y notify_observer() para notificar al observador sobre el nuevo valor.\n",
        "- Uso: En el bloque principal, se crea un objeto Counter y un Observer. Cada vez que se llama a increment(), el contador se aumenta y se notifica al observador.\n",
        "\n",
        "\n",
        "Este ejemplo muestra cómo el patrón Observer permite que un objeto (el contador) notifique a otro objeto (el observador) de manera simple y efectiva, lo que es ideal para ilustrar la idea central del patrón."
      ]
    }
  ],
  "metadata": {
    "colab": {
      "provenance": [],
      "toc_visible": true
    },
    "kernelspec": {
      "display_name": "Python 3",
      "name": "python3"
    },
    "language_info": {
      "name": "python"
    }
  },
  "nbformat": 4,
  "nbformat_minor": 0
}
